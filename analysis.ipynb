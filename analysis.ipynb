{
 "cells": [
  {
   "cell_type": "markdown",
   "source": [
    "# Análise Exploratória de Dados nos aluguéis de imóveis do Airbnb no Rio de Janeiro"
   ],
   "metadata": {}
  },
  {
   "cell_type": "code",
   "execution_count": 1,
   "source": [
    "import pandas as pd\n",
    "import seaborn as sns"
   ],
   "outputs": [],
   "metadata": {}
  },
  {
   "cell_type": "code",
   "execution_count": 2,
   "source": [
    "df_listings = pd.read_csv('listings.csv')"
   ],
   "outputs": [],
   "metadata": {}
  },
  {
   "cell_type": "code",
   "execution_count": 6,
   "source": [
    "df_listings.columns"
   ],
   "outputs": [
    {
     "output_type": "execute_result",
     "data": {
      "text/plain": [
       "Index([u'id', u'listing_url', u'scrape_id', u'last_scraped', u'name',\n",
       "       u'description', u'neighborhood_overview', u'picture_url', u'host_id',\n",
       "       u'host_url', u'host_name', u'host_since', u'host_location',\n",
       "       u'host_about', u'host_response_time', u'host_response_rate',\n",
       "       u'host_acceptance_rate', u'host_is_superhost', u'host_thumbnail_url',\n",
       "       u'host_picture_url', u'host_neighbourhood', u'host_listings_count',\n",
       "       u'host_total_listings_count', u'host_verifications',\n",
       "       u'host_has_profile_pic', u'host_identity_verified', u'neighbourhood',\n",
       "       u'neighbourhood_cleansed', u'neighbourhood_group_cleansed', u'latitude',\n",
       "       u'longitude', u'property_type', u'room_type', u'accommodates',\n",
       "       u'bathrooms', u'bathrooms_text', u'bedrooms', u'beds', u'amenities',\n",
       "       u'price', u'minimum_nights', u'maximum_nights',\n",
       "       u'minimum_minimum_nights', u'maximum_minimum_nights',\n",
       "       u'minimum_maximum_nights', u'maximum_maximum_nights',\n",
       "       u'minimum_nights_avg_ntm', u'maximum_nights_avg_ntm',\n",
       "       u'calendar_updated', u'has_availability', u'availability_30',\n",
       "       u'availability_60', u'availability_90', u'availability_365',\n",
       "       u'calendar_last_scraped', u'number_of_reviews',\n",
       "       u'number_of_reviews_ltm', u'number_of_reviews_l30d', u'first_review',\n",
       "       u'last_review', u'review_scores_rating', u'review_scores_accuracy',\n",
       "       u'review_scores_cleanliness', u'review_scores_checkin',\n",
       "       u'review_scores_communication', u'review_scores_location',\n",
       "       u'review_scores_value', u'license', u'instant_bookable',\n",
       "       u'calculated_host_listings_count',\n",
       "       u'calculated_host_listings_count_entire_homes',\n",
       "       u'calculated_host_listings_count_private_rooms',\n",
       "       u'calculated_host_listings_count_shared_rooms', u'reviews_per_month'],\n",
       "      dtype='object')"
      ]
     },
     "metadata": {},
     "execution_count": 6
    }
   ],
   "metadata": {}
  },
  {
   "cell_type": "code",
   "execution_count": 7,
   "source": [
    "list_of_columns = list(df_listings.columns)"
   ],
   "outputs": [],
   "metadata": {}
  },
  {
   "cell_type": "code",
   "execution_count": 11,
   "source": [
    "with open('list_of_listings_columns.txt','w') as file:\n",
    "    file.write('\\n'.join(list_of_columns))"
   ],
   "outputs": [],
   "metadata": {}
  },
  {
   "cell_type": "code",
   "execution_count": null,
   "source": [],
   "outputs": [],
   "metadata": {}
  }
 ],
 "metadata": {
  "orig_nbformat": 4,
  "language_info": {
   "mimetype": "text/x-python",
   "nbconvert_exporter": "python",
   "name": "python",
   "pygments_lexer": "ipython2",
   "version": "2.7.17",
   "file_extension": ".py",
   "codemirror_mode": {
    "version": 2,
    "name": "ipython"
   }
  },
  "kernelspec": {
   "name": "python3",
   "display_name": "Python 2.7.17 64-bit"
  },
  "interpreter": {
   "hash": "767d51c1340bd893661ea55ea3124f6de3c7a262a8b4abca0554b478b1e2ff90"
  }
 },
 "nbformat": 4,
 "nbformat_minor": 2
}