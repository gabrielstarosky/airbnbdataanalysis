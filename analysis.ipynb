{
 "cells": [
  {
   "cell_type": "markdown",
   "source": [
    "# Análise Exploratória de Dados nos aluguéis de imóveis do Airbnb no Rio de Janeiro"
   ],
   "metadata": {}
  },
  {
   "cell_type": "code",
   "execution_count": 22,
   "source": [
    "import pandas as pd\n",
    "import seaborn as sns"
   ],
   "outputs": [],
   "metadata": {}
  },
  {
   "cell_type": "code",
   "execution_count": 23,
   "source": [
    "df_listings = pd.read_csv('listings.csv')"
   ],
   "outputs": [],
   "metadata": {}
  },
  {
   "cell_type": "code",
   "execution_count": 12,
   "source": [
    "set_of_columns = set(df_listings.columns)"
   ],
   "outputs": [],
   "metadata": {}
  },
  {
   "cell_type": "code",
   "execution_count": 18,
   "source": [
    "with open('list_of_listings_columns_keep.txt', 'r') as file:\n",
    "    list_of_columns_keep = [column.strip('\\n') for column in file]"
   ],
   "outputs": [],
   "metadata": {}
  },
  {
   "cell_type": "code",
   "execution_count": 19,
   "source": [
    "set_of_columns_keep = set(list_of_columns_keep)"
   ],
   "outputs": [],
   "metadata": {}
  },
  {
   "cell_type": "code",
   "execution_count": 24,
   "source": [
    "set_of_columns_remove = set_of_columns-set_of_columns_keep\n",
    "list_of_columns_remove = list(set_of_columns_remove)"
   ],
   "outputs": [],
   "metadata": {}
  },
  {
   "cell_type": "code",
   "execution_count": 26,
   "source": [
    "df_listings = df_listings.drop(columns=list_of_columns_remove)"
   ],
   "outputs": [],
   "metadata": {}
  },
  {
   "cell_type": "code",
   "execution_count": 30,
   "source": [
    "with open('list_of_listings_columns_renamed.txt', 'r') as file:\n",
    "    list_of_columns_renamed = [column.strip('\\n') for column in file]"
   ],
   "outputs": [],
   "metadata": {}
  },
  {
   "cell_type": "code",
   "execution_count": 33,
   "source": [
    "rename_map = dict(zip(list_of_columns_keep, list_of_columns_renamed))"
   ],
   "outputs": [],
   "metadata": {}
  },
  {
   "cell_type": "code",
   "execution_count": 35,
   "source": [
    "df_listings = df_listings.rename(columns=rename_map)"
   ],
   "outputs": [],
   "metadata": {}
  },
  {
   "cell_type": "markdown",
   "source": [
    "## Sumarização dos dados"
   ],
   "metadata": {}
  },
  {
   "cell_type": "markdown",
   "source": [
    "### Contagem de registros de dados"
   ],
   "metadata": {}
  },
  {
   "cell_type": "code",
   "execution_count": 44,
   "source": [
    "df_listings.describe().transpose()['count']"
   ],
   "outputs": [
    {
     "output_type": "execute_result",
     "data": {
      "text/plain": [
       "id                   23635.0\n",
       "h_id                 23635.0\n",
       "lat                  23635.0\n",
       "long                 23635.0\n",
       "accom                23635.0\n",
       "bathrooms                0.0\n",
       "bedrooms             22054.0\n",
       "beds                 23407.0\n",
       "cal_updated              0.0\n",
       "reviews              23635.0\n",
       "reviews_ltm          23635.0\n",
       "reviews_l30d         23635.0\n",
       "sc_rat               14980.0\n",
       "sc_acc               14501.0\n",
       "sc_clean             14502.0\n",
       "sc_cin               14501.0\n",
       "sc_comm              14503.0\n",
       "sc_loc               14500.0\n",
       "sc_val               14501.0\n",
       "lic                      0.0\n",
       "reviews_per_month    14980.0\n",
       "Name: count, dtype: float64"
      ]
     },
     "metadata": {},
     "execution_count": 44
    }
   ],
   "metadata": {}
  },
  {
   "cell_type": "code",
   "execution_count": 57,
   "source": [
    "df_listings.head(20)['bathrooms_text']"
   ],
   "outputs": [
    {
     "output_type": "execute_result",
     "data": {
      "text/plain": [
       "0             1 bath\n",
       "1             1 bath\n",
       "2             1 bath\n",
       "3          1.5 baths\n",
       "4             1 bath\n",
       "5           15 baths\n",
       "6     1 private bath\n",
       "7          3.5 baths\n",
       "8             1 bath\n",
       "9            7 baths\n",
       "10            1 bath\n",
       "11           4 baths\n",
       "12         2.5 baths\n",
       "13           7 baths\n",
       "14           2 baths\n",
       "15            1 bath\n",
       "16    1 private bath\n",
       "17           2 baths\n",
       "18            1 bath\n",
       "19           4 baths\n",
       "Name: bathrooms_text, dtype: object"
      ]
     },
     "metadata": {},
     "execution_count": 57
    }
   ],
   "metadata": {}
  }
 ],
 "metadata": {
  "orig_nbformat": 4,
  "language_info": {
   "mimetype": "text/x-python",
   "nbconvert_exporter": "python",
   "name": "python",
   "pygments_lexer": "ipython2",
   "version": "2.7.17",
   "file_extension": ".py",
   "codemirror_mode": {
    "version": 2,
    "name": "ipython"
   }
  },
  "kernelspec": {
   "name": "python3",
   "display_name": "Python 2.7.17 64-bit"
  },
  "interpreter": {
   "hash": "767d51c1340bd893661ea55ea3124f6de3c7a262a8b4abca0554b478b1e2ff90"
  }
 },
 "nbformat": 4,
 "nbformat_minor": 2
}