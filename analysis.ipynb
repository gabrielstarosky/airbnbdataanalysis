{
 "cells": [
  {
   "cell_type": "markdown",
   "metadata": {},
   "source": [
    "# Análise exploratória de dados de anúncios do Airbnb no Rio de Janeiro"
   ]
  },
  {
   "cell_type": "markdown",
   "metadata": {},
   "source": [
    "##### *Esta análise encontra-se em andamento e pode ser atualizada a qualquer momento.*"
   ]
  },
  {
   "cell_type": "markdown",
   "metadata": {},
   "source": [
    "O objetivo desta análise é explorar os dados coletados de anúncios do Airbnb na região da cidade do Rio de Janeiro em busca de encontrar variáveis que explicam o preço de cada anúncio.\n",
    "\n",
    "Os dados foram coletados do site Inside Airbnb (http://insideairbnb.com/), que coleta dados do Airbnb e os disponibiliza para várias cidades do mundo todo.\n",
    "\n",
    "Os dados de anúncios do Rio de Janeiro foram baixados em formato CSV para esta análise no dia 25 de agosto de 2021 (v. http://insideairbnb.com/get-the-data.html, seção **Rio de Janeiro**)."
   ]
  },
  {
   "cell_type": "markdown",
   "metadata": {},
   "source": [
    "## Importação das bibliotecas necessárias"
   ]
  },
  {
   "cell_type": "code",
   "execution_count": 1,
   "metadata": {},
   "outputs": [],
   "source": [
    "import pandas as pd\n",
    "import seaborn as sbn\n",
    "import matplotlib.pyplot as plt\n",
    "\n",
    "from Utils.data_frame_utils import remove_outliers\n",
    "from Utils.data_frame_utils import get_corr_diagonal_matrix\n",
    "from Utils.data_frame_utils import export_list_of_columns\n",
    "from Utils.data_frame_utils import drop_columns_by_files"
   ]
  },
  {
   "cell_type": "markdown",
   "metadata": {},
   "source": [
    "## Leitura e seleção de características dos dados de anúncios"
   ]
  },
  {
   "cell_type": "markdown",
   "metadata": {},
   "source": [
    "Para facilitar o andamento da análise, as colunas do conjunto de dados foram obtidas após a leitura do arquivo para o dataframe da biblioteca Pandas e exportadas para o arquivo *list_of_listings_columns.txt*. Após a exportação, uma cópia foi criada e nesta foram mantidas apenas o nome das colunas mantidas para a análise. A cópia foi salva no arquivo *list_of_listings_columns_keep.txt*. Um procedimento foi realizado para remover as colunas do dataset que não serão utilizadas na análise."
   ]
  },
  {
   "cell_type": "markdown",
   "metadata": {},
   "source": [
    "### Leitura do conjunto de dados"
   ]
  },
  {
   "cell_type": "code",
   "execution_count": 2,
   "metadata": {},
   "outputs": [],
   "source": [
    "df_listings = pd.read_csv('listings.csv')"
   ]
  },
  {
   "cell_type": "markdown",
   "metadata": {},
   "source": [
    "### Exportação do conjunto de dados"
   ]
  },
  {
   "cell_type": "code",
   "execution_count": 3,
   "metadata": {},
   "outputs": [],
   "source": [
    "list_full_columns = list(df_listings.columns)\n",
    "\n",
    "export_list_of_columns(list_full_columns, 'list_of_listings_columns.txt')"
   ]
  },
  {
   "cell_type": "markdown",
   "metadata": {},
   "source": [
    "### Remoção das colunas com base nos arquivos criados"
   ]
  },
  {
   "cell_type": "code",
   "execution_count": 4,
   "metadata": {},
   "outputs": [],
   "source": [
    "df_listings = drop_columns_by_files(df_listings,\n",
    "                                    'list_of_listings_columns.txt',\n",
    "                                    'list_of_listings_columns_keep.txt')"
   ]
  },
  {
   "cell_type": "markdown",
   "metadata": {},
   "source": [
    "### Critérios de remoção de colunas"
   ]
  },
  {
   "cell_type": "markdown",
   "metadata": {},
   "source": [
    "Inicialmente foram removidos:\n",
    "\n",
    "1. Todos os dados referentes aos anfitriões (host), tanto descritivos quanto calculados (calculated_host_\\*) com exceção de host_id e host_name. Foi decidido não trabalhar com dados dos anfitriões dos anúncios\n",
    "2. O nome (name) e descrição (descrição) dos anúncios.\n",
    "3. Dados sobre a vizinhança do anúncio (neighboorhood).\n",
    "4. Dados relacionados ao calendário dos anúncios. O Airbnb permite o anfitrião atribuir um calendário de disponibilidade aos anúncios e o conjunto de dados apresenta cálculos com relação ao calendário de cada anúncio (has_availability, availability_\\* e dados de máximo e mínimo de noites).\n",
    "5. Todas as URLs, com exceção da URLs dos anúncios, foram removidas."
   ]
  },
  {
   "cell_type": "markdown",
   "metadata": {},
   "source": [
    "### Significados dos dados"
   ]
  },
  {
   "cell_type": "markdown",
   "metadata": {},
   "source": [
    "##### Em parênteses, o tipo que o dado deve ter"
   ]
  },
  {
   "cell_type": "markdown",
   "metadata": {},
   "source": [
    "**id**: Identificador único (string)\n",
    "\n",
    "**last_scraped**: Última data em que os dados do anúncio foram coletados (datetime)\n",
    "\n",
    "**host_id**: Identificador único do anfitrião do anúncio (string)\n",
    "\n",
    "**host_name**: Nome do anfitrião do anúncio (string)\n",
    "\n",
    "**latitude**: Latitude do anúncio (float)\n",
    "\n",
    "**longitude**: Longitude do anúncio (float)\n",
    "\n",
    "**property_type**: Tipo de propriedade declarada pelo anfitrião (string)\n",
    "\n",
    "**room_type**: Tipo de quarto (string). Pode ser\n",
    "\n",
    "1. Entire home/apt (Lugar inteiro)\n",
    "2. Private room (Quarto inteiro)\n",
    "3. Shared room (Quarto compartilhado).\n",
    "4. Hotel room (Quarto de hotel).\n",
    "\n",
    "Para mais informações, v. https://www.airbnb.com.br/help/article/5/tipos-de-lugar-para-ficar\n",
    "\n",
    "**accommodates** : A capacidade máxima de pessoas que o local do anúncio acomoda (int)\n",
    "\n",
    "**bathrooms**: O número de banheiros do local do anúncio. O campo neste conjunto de dados não informa nada. Ele existe apenas em coletas de dados mais antigas, pois o Airbnb mudou a descrição dos banheiro do anúncio, de uma descrição numérica para textual. (int)\n",
    "\n",
    "**bathrooms_text**: Quantidade de banheiros do anúncio. (string)\n",
    "\n",
    "**bedrooms**: Quantidade de quartos. (int)\n",
    "\n",
    "**beds**: Quantidade de camas. (int)\n",
    "\n",
    "**amenities**: Comodidades do local. É um campo json (string)\n",
    "\n",
    "**price**: Preço por noite em moeda local. No caso, em reais (float)\n",
    "\n",
    "**has_availability**: Se está disponível (boolean)\n",
    "\n",
    "**number_of_reviews**: Número de avaliações (int)\n",
    "\n",
    "**number_of_reviews_ltm**: Número de avaliações nos últimos 12 meses (int)\n",
    "\n",
    "**number_of_reviews_l30d**: Número de avaliações nos últimos 30 dias (int)\n",
    "\n",
    "**first_review**: Data da primeira avaliação (datetime)\n",
    "\n",
    "**last_review**: Data da última avaliação (datetime)\n",
    "\n",
    "**review_scores_rating**: Score de avaliação (datetime)\n",
    "\n",
    "**review_scores_accuracy**: Score de avaliação de precisão (1 a 5) (float)\n",
    "\n",
    "**review_scores_cleanliness**: Score de avaliação de limpeza (1 a 5) (float)\n",
    "\n",
    "**review_scores_checkin**: Score de avaliação de checkin (1 a 5) (float)\n",
    "\n",
    "**review_scores_communication**: Score de avaliação de comunicação (1 a 5) (float)\n",
    "\n",
    "**review_scores_location**: Score de avaliação de localização (1 a 5) (float)\n",
    "\n",
    "**review_scores_value**: Score de avaliação de custo-benefício (1 a 5) (float)\n",
    "\n",
    "**license**: O número de licença/permissão/registro (string)\n",
    "\n",
    "**instant_bookable**: Indica se o hóspede pode fazer a locação do anúncio sem que o anfitrião necessite aprovar a requisição de locação. Indica se o anúncio é comercial. (boolean)\n",
    "\n",
    "**reviews_per_month**: O número de avaliações por mês do anúncio desde o seu surgimento. (int)\n",
    "\n",
    "Fonte: *Inside Airbnb - Dicionário de Dados*: https://docs.google.com/spreadsheets/d/1iWCNJcSutYqpULSQHlNyGInUvHg2BoUGoNRIGa6Szc4/edit#gid=982310896"
   ]
  },
  {
   "cell_type": "markdown",
   "metadata": {},
   "source": [
    "## Atribuição de tipos de dados"
   ]
  },
  {
   "cell_type": "code",
   "execution_count": 5,
   "metadata": {},
   "outputs": [
    {
     "data": {
      "text/plain": [
       "id                               int64\n",
       "listing_url                     object\n",
       "last_scraped                    object\n",
       "host_id                          int64\n",
       "host_name                       object\n",
       "latitude                       float64\n",
       "longitude                      float64\n",
       "property_type                   object\n",
       "room_type                       object\n",
       "accommodates                     int64\n",
       "bathrooms                      float64\n",
       "bathrooms_text                  object\n",
       "bedrooms                       float64\n",
       "beds                           float64\n",
       "amenities                       object\n",
       "price                           object\n",
       "has_availability                object\n",
       "number_of_reviews                int64\n",
       "number_of_reviews_ltm            int64\n",
       "number_of_reviews_l30d           int64\n",
       "first_review                    object\n",
       "last_review                     object\n",
       "review_scores_rating           float64\n",
       "review_scores_accuracy         float64\n",
       "review_scores_cleanliness      float64\n",
       "review_scores_checkin          float64\n",
       "review_scores_communication    float64\n",
       "review_scores_location         float64\n",
       "review_scores_value            float64\n",
       "license                        float64\n",
       "instant_bookable                object\n",
       "reviews_per_month              float64\n",
       "dtype: object"
      ]
     },
     "execution_count": 5,
     "metadata": {},
     "output_type": "execute_result"
    }
   ],
   "source": [
    "df_listings.dtypes"
   ]
  },
  {
   "cell_type": "markdown",
   "metadata": {},
   "source": [
    "Devemos atualizar os tipos das seguintes colunas:\n",
    "* id\n",
    "* last_scraped\n",
    "* host_id\n",
    "* host_name\n",
    "* property_type\n",
    "* room_type\n",
    "* bathrooms_text\n",
    "* amenities\n",
    "* price\n",
    "* first_review\n",
    "* last_review\n",
    "* instant_bookable"
   ]
  },
  {
   "cell_type": "code",
   "execution_count": 6,
   "metadata": {},
   "outputs": [],
   "source": [
    "df_listings.id = df_listings.id.astype('string')\n",
    "df_listings.last_scraped = df_listings.last_scraped.astype('datetime64')\n",
    "df_listings.host_id = df_listings.host_id.astype('string')\n",
    "df_listings.host_name = df_listings.host_name.astype('string')\n",
    "df_listings.property_type = df_listings.property_type.astype('string')\n",
    "df_listings.room_type = df_listings.room_type.astype('string')\n",
    "df_listings.bathrooms_text = df_listings.bathrooms_text.astype('string')\n",
    "df_listings.amenities = df_listings.amenities.astype('string')\n",
    "\n",
    "df_listings['price'] = df_listings['price'].apply(lambda price : price.strip('$'))\n",
    "df_listings['price'] = df_listings['price'].apply(lambda price : price.replace(',',''))\n",
    "df_listings['price'] = df_listings['price'].astype('float64')\n",
    "\n",
    "df_listings.first_review = df_listings.first_review.astype('datetime64')\n",
    "df_listings.last_review = df_listings.last_review.astype('datetime64')\n",
    "df_listings.instant_bookable = df_listings.instant_bookable.apply(lambda x : 1 if x == 't' else 0)\n",
    "df_listings.instant_bookable = df_listings.instant_bookable.astype('boolean')\n",
    "\n",
    "df_listings.has_availability = df_listings.has_availability.apply(lambda x : 1 if x == 't' else 0)\n",
    "df_listings.has_availability = df_listings.has_availability.astype('boolean')"
   ]
  },
  {
   "cell_type": "code",
   "execution_count": 7,
   "metadata": {},
   "outputs": [
    {
     "data": {
      "text/plain": [
       "id                                     string\n",
       "listing_url                            object\n",
       "last_scraped                   datetime64[ns]\n",
       "host_id                                string\n",
       "host_name                              string\n",
       "latitude                              float64\n",
       "longitude                             float64\n",
       "property_type                          string\n",
       "room_type                              string\n",
       "accommodates                            int64\n",
       "bathrooms                             float64\n",
       "bathrooms_text                         string\n",
       "bedrooms                              float64\n",
       "beds                                  float64\n",
       "amenities                              string\n",
       "price                                 float64\n",
       "has_availability                      boolean\n",
       "number_of_reviews                       int64\n",
       "number_of_reviews_ltm                   int64\n",
       "number_of_reviews_l30d                  int64\n",
       "first_review                   datetime64[ns]\n",
       "last_review                    datetime64[ns]\n",
       "review_scores_rating                  float64\n",
       "review_scores_accuracy                float64\n",
       "review_scores_cleanliness             float64\n",
       "review_scores_checkin                 float64\n",
       "review_scores_communication           float64\n",
       "review_scores_location                float64\n",
       "review_scores_value                   float64\n",
       "license                               float64\n",
       "instant_bookable                      boolean\n",
       "reviews_per_month                     float64\n",
       "dtype: object"
      ]
     },
     "execution_count": 7,
     "metadata": {},
     "output_type": "execute_result"
    }
   ],
   "source": [
    "df_listings.dtypes"
   ]
  },
  {
   "cell_type": "markdown",
   "metadata": {},
   "source": [
    "## Descrição sumarizada dos dados"
   ]
  },
  {
   "cell_type": "markdown",
   "metadata": {},
   "source": [
    "O conjunto de dados conta com um total de **23635** anúncios. Destes, **1581** anúncios não apresentam dados de quantidade de quartos (*bedrooms*). O que parece inconsistente é o fato de que existem **23407** anúncios informando a quantidade de camas (*beds*), mais do que de anúncios informando quantidade de quartos. Será necessário observar estes dados para saber se é uma inconsistência ou se existem motivos para este fato.\n",
    "\n",
    "Existem 7 anúncios marcados com preço **R$0,00**. Ao acessar algumas das URLs destes anúncios, verificamos que são todos quartos de hotel e não são, obviamente, serviços gratuitos. No entanto, por ser uma amostra pequena, estes anúncios foram desconsiderados da análise.\n",
    "\n",
    "As avaliações dos hóspedes estão presentes em **14980** anúncios. A presença de avaliações é um fator que pode explicar o preço de um anúncio? Além desta pergunta, é interessante responder outras:\n",
    "\n",
    "* Qual é a distribuição de frequência de preços (*price*) dos anúncios do Rio de Janeiro?\n",
    "* Quantos anúncios existem por tipo de quarto (*room_type*) no conjunto de dados do Rio de Janeiro?\n",
    "* É possível obter um modelo de regressão múltipla estatisticamente relevante para predizer o preço de um anúncio com base nas características do anúncio?"
   ]
  },
  {
   "cell_type": "code",
   "execution_count": 8,
   "metadata": {},
   "outputs": [
    {
     "data": {
      "text/html": [
       "<div>\n",
       "<style scoped>\n",
       "    .dataframe tbody tr th:only-of-type {\n",
       "        vertical-align: middle;\n",
       "    }\n",
       "\n",
       "    .dataframe tbody tr th {\n",
       "        vertical-align: top;\n",
       "    }\n",
       "\n",
       "    .dataframe thead th {\n",
       "        text-align: right;\n",
       "    }\n",
       "</style>\n",
       "<table border=\"1\" class=\"dataframe\">\n",
       "  <thead>\n",
       "    <tr style=\"text-align: right;\">\n",
       "      <th></th>\n",
       "      <th>count</th>\n",
       "      <th>mean</th>\n",
       "      <th>std</th>\n",
       "      <th>min</th>\n",
       "      <th>25%</th>\n",
       "      <th>50%</th>\n",
       "      <th>75%</th>\n",
       "      <th>max</th>\n",
       "    </tr>\n",
       "  </thead>\n",
       "  <tbody>\n",
       "    <tr>\n",
       "      <th>latitude</th>\n",
       "      <td>23635.0</td>\n",
       "      <td>-22.966148</td>\n",
       "      <td>0.035113</td>\n",
       "      <td>-23.07262</td>\n",
       "      <td>-22.984680</td>\n",
       "      <td>-22.97200</td>\n",
       "      <td>-22.95196</td>\n",
       "      <td>-22.74969</td>\n",
       "    </tr>\n",
       "    <tr>\n",
       "      <th>longitude</th>\n",
       "      <td>23635.0</td>\n",
       "      <td>-43.249278</td>\n",
       "      <td>0.097131</td>\n",
       "      <td>-43.72099</td>\n",
       "      <td>-43.306905</td>\n",
       "      <td>-43.19636</td>\n",
       "      <td>-43.18630</td>\n",
       "      <td>-43.10440</td>\n",
       "    </tr>\n",
       "    <tr>\n",
       "      <th>accommodates</th>\n",
       "      <td>23635.0</td>\n",
       "      <td>4.139454</td>\n",
       "      <td>2.493865</td>\n",
       "      <td>0.00000</td>\n",
       "      <td>2.000000</td>\n",
       "      <td>4.00000</td>\n",
       "      <td>5.00000</td>\n",
       "      <td>16.00000</td>\n",
       "    </tr>\n",
       "    <tr>\n",
       "      <th>bathrooms</th>\n",
       "      <td>0.0</td>\n",
       "      <td>NaN</td>\n",
       "      <td>NaN</td>\n",
       "      <td>NaN</td>\n",
       "      <td>NaN</td>\n",
       "      <td>NaN</td>\n",
       "      <td>NaN</td>\n",
       "      <td>NaN</td>\n",
       "    </tr>\n",
       "    <tr>\n",
       "      <th>bedrooms</th>\n",
       "      <td>22054.0</td>\n",
       "      <td>1.710211</td>\n",
       "      <td>1.083110</td>\n",
       "      <td>1.00000</td>\n",
       "      <td>1.000000</td>\n",
       "      <td>1.00000</td>\n",
       "      <td>2.00000</td>\n",
       "      <td>30.00000</td>\n",
       "    </tr>\n",
       "    <tr>\n",
       "      <th>beds</th>\n",
       "      <td>23407.0</td>\n",
       "      <td>2.558038</td>\n",
       "      <td>2.289492</td>\n",
       "      <td>0.00000</td>\n",
       "      <td>1.000000</td>\n",
       "      <td>2.00000</td>\n",
       "      <td>3.00000</td>\n",
       "      <td>91.00000</td>\n",
       "    </tr>\n",
       "    <tr>\n",
       "      <th>price</th>\n",
       "      <td>23635.0</td>\n",
       "      <td>751.329300</td>\n",
       "      <td>5477.207312</td>\n",
       "      <td>0.00000</td>\n",
       "      <td>150.000000</td>\n",
       "      <td>256.00000</td>\n",
       "      <td>511.00000</td>\n",
       "      <td>586229.00000</td>\n",
       "    </tr>\n",
       "    <tr>\n",
       "      <th>number_of_reviews</th>\n",
       "      <td>23635.0</td>\n",
       "      <td>13.207489</td>\n",
       "      <td>31.962546</td>\n",
       "      <td>0.00000</td>\n",
       "      <td>0.000000</td>\n",
       "      <td>2.00000</td>\n",
       "      <td>10.00000</td>\n",
       "      <td>466.00000</td>\n",
       "    </tr>\n",
       "    <tr>\n",
       "      <th>number_of_reviews_ltm</th>\n",
       "      <td>23635.0</td>\n",
       "      <td>2.746943</td>\n",
       "      <td>7.241630</td>\n",
       "      <td>0.00000</td>\n",
       "      <td>0.000000</td>\n",
       "      <td>0.00000</td>\n",
       "      <td>2.00000</td>\n",
       "      <td>186.00000</td>\n",
       "    </tr>\n",
       "    <tr>\n",
       "      <th>number_of_reviews_l30d</th>\n",
       "      <td>23635.0</td>\n",
       "      <td>0.202369</td>\n",
       "      <td>0.747484</td>\n",
       "      <td>0.00000</td>\n",
       "      <td>0.000000</td>\n",
       "      <td>0.00000</td>\n",
       "      <td>0.00000</td>\n",
       "      <td>37.00000</td>\n",
       "    </tr>\n",
       "    <tr>\n",
       "      <th>review_scores_rating</th>\n",
       "      <td>14980.0</td>\n",
       "      <td>4.577253</td>\n",
       "      <td>0.961930</td>\n",
       "      <td>0.00000</td>\n",
       "      <td>4.630000</td>\n",
       "      <td>4.88000</td>\n",
       "      <td>5.00000</td>\n",
       "      <td>5.00000</td>\n",
       "    </tr>\n",
       "    <tr>\n",
       "      <th>review_scores_accuracy</th>\n",
       "      <td>14501.0</td>\n",
       "      <td>4.788882</td>\n",
       "      <td>0.465767</td>\n",
       "      <td>0.00000</td>\n",
       "      <td>4.780000</td>\n",
       "      <td>4.96000</td>\n",
       "      <td>5.00000</td>\n",
       "      <td>5.00000</td>\n",
       "    </tr>\n",
       "    <tr>\n",
       "      <th>review_scores_cleanliness</th>\n",
       "      <td>14502.0</td>\n",
       "      <td>4.676918</td>\n",
       "      <td>0.552514</td>\n",
       "      <td>0.00000</td>\n",
       "      <td>4.600000</td>\n",
       "      <td>4.87000</td>\n",
       "      <td>5.00000</td>\n",
       "      <td>5.00000</td>\n",
       "    </tr>\n",
       "    <tr>\n",
       "      <th>review_scores_checkin</th>\n",
       "      <td>14501.0</td>\n",
       "      <td>4.872734</td>\n",
       "      <td>0.389450</td>\n",
       "      <td>0.00000</td>\n",
       "      <td>4.900000</td>\n",
       "      <td>5.00000</td>\n",
       "      <td>5.00000</td>\n",
       "      <td>5.00000</td>\n",
       "    </tr>\n",
       "    <tr>\n",
       "      <th>review_scores_communication</th>\n",
       "      <td>14503.0</td>\n",
       "      <td>4.851966</td>\n",
       "      <td>0.415206</td>\n",
       "      <td>1.00000</td>\n",
       "      <td>4.880000</td>\n",
       "      <td>5.00000</td>\n",
       "      <td>5.00000</td>\n",
       "      <td>5.00000</td>\n",
       "    </tr>\n",
       "    <tr>\n",
       "      <th>review_scores_location</th>\n",
       "      <td>14500.0</td>\n",
       "      <td>4.847638</td>\n",
       "      <td>0.377966</td>\n",
       "      <td>1.00000</td>\n",
       "      <td>4.850000</td>\n",
       "      <td>5.00000</td>\n",
       "      <td>5.00000</td>\n",
       "      <td>5.00000</td>\n",
       "    </tr>\n",
       "    <tr>\n",
       "      <th>review_scores_value</th>\n",
       "      <td>14501.0</td>\n",
       "      <td>4.630632</td>\n",
       "      <td>0.510273</td>\n",
       "      <td>1.00000</td>\n",
       "      <td>4.500000</td>\n",
       "      <td>4.75000</td>\n",
       "      <td>5.00000</td>\n",
       "      <td>5.00000</td>\n",
       "    </tr>\n",
       "    <tr>\n",
       "      <th>license</th>\n",
       "      <td>0.0</td>\n",
       "      <td>NaN</td>\n",
       "      <td>NaN</td>\n",
       "      <td>NaN</td>\n",
       "      <td>NaN</td>\n",
       "      <td>NaN</td>\n",
       "      <td>NaN</td>\n",
       "      <td>NaN</td>\n",
       "    </tr>\n",
       "    <tr>\n",
       "      <th>reviews_per_month</th>\n",
       "      <td>14980.0</td>\n",
       "      <td>0.602536</td>\n",
       "      <td>0.864291</td>\n",
       "      <td>0.01000</td>\n",
       "      <td>0.090000</td>\n",
       "      <td>0.24000</td>\n",
       "      <td>0.79000</td>\n",
       "      <td>26.96000</td>\n",
       "    </tr>\n",
       "  </tbody>\n",
       "</table>\n",
       "</div>"
      ],
      "text/plain": [
       "                               count        mean          std       min  \\\n",
       "latitude                     23635.0  -22.966148     0.035113 -23.07262   \n",
       "longitude                    23635.0  -43.249278     0.097131 -43.72099   \n",
       "accommodates                 23635.0    4.139454     2.493865   0.00000   \n",
       "bathrooms                        0.0         NaN          NaN       NaN   \n",
       "bedrooms                     22054.0    1.710211     1.083110   1.00000   \n",
       "beds                         23407.0    2.558038     2.289492   0.00000   \n",
       "price                        23635.0  751.329300  5477.207312   0.00000   \n",
       "number_of_reviews            23635.0   13.207489    31.962546   0.00000   \n",
       "number_of_reviews_ltm        23635.0    2.746943     7.241630   0.00000   \n",
       "number_of_reviews_l30d       23635.0    0.202369     0.747484   0.00000   \n",
       "review_scores_rating         14980.0    4.577253     0.961930   0.00000   \n",
       "review_scores_accuracy       14501.0    4.788882     0.465767   0.00000   \n",
       "review_scores_cleanliness    14502.0    4.676918     0.552514   0.00000   \n",
       "review_scores_checkin        14501.0    4.872734     0.389450   0.00000   \n",
       "review_scores_communication  14503.0    4.851966     0.415206   1.00000   \n",
       "review_scores_location       14500.0    4.847638     0.377966   1.00000   \n",
       "review_scores_value          14501.0    4.630632     0.510273   1.00000   \n",
       "license                          0.0         NaN          NaN       NaN   \n",
       "reviews_per_month            14980.0    0.602536     0.864291   0.01000   \n",
       "\n",
       "                                    25%        50%        75%           max  \n",
       "latitude                     -22.984680  -22.97200  -22.95196     -22.74969  \n",
       "longitude                    -43.306905  -43.19636  -43.18630     -43.10440  \n",
       "accommodates                   2.000000    4.00000    5.00000      16.00000  \n",
       "bathrooms                           NaN        NaN        NaN           NaN  \n",
       "bedrooms                       1.000000    1.00000    2.00000      30.00000  \n",
       "beds                           1.000000    2.00000    3.00000      91.00000  \n",
       "price                        150.000000  256.00000  511.00000  586229.00000  \n",
       "number_of_reviews              0.000000    2.00000   10.00000     466.00000  \n",
       "number_of_reviews_ltm          0.000000    0.00000    2.00000     186.00000  \n",
       "number_of_reviews_l30d         0.000000    0.00000    0.00000      37.00000  \n",
       "review_scores_rating           4.630000    4.88000    5.00000       5.00000  \n",
       "review_scores_accuracy         4.780000    4.96000    5.00000       5.00000  \n",
       "review_scores_cleanliness      4.600000    4.87000    5.00000       5.00000  \n",
       "review_scores_checkin          4.900000    5.00000    5.00000       5.00000  \n",
       "review_scores_communication    4.880000    5.00000    5.00000       5.00000  \n",
       "review_scores_location         4.850000    5.00000    5.00000       5.00000  \n",
       "review_scores_value            4.500000    4.75000    5.00000       5.00000  \n",
       "license                             NaN        NaN        NaN           NaN  \n",
       "reviews_per_month              0.090000    0.24000    0.79000      26.96000  "
      ]
     },
     "execution_count": 8,
     "metadata": {},
     "output_type": "execute_result"
    }
   ],
   "source": [
    "df_listings.describe().transpose()"
   ]
  },
  {
   "cell_type": "markdown",
   "metadata": {},
   "source": [
    "### Visão dos anúncios com preço R\\$0,00"
   ]
  },
  {
   "cell_type": "code",
   "execution_count": 9,
   "metadata": {},
   "outputs": [
    {
     "data": {
      "text/html": [
       "<div>\n",
       "<style scoped>\n",
       "    .dataframe tbody tr th:only-of-type {\n",
       "        vertical-align: middle;\n",
       "    }\n",
       "\n",
       "    .dataframe tbody tr th {\n",
       "        vertical-align: top;\n",
       "    }\n",
       "\n",
       "    .dataframe thead th {\n",
       "        text-align: right;\n",
       "    }\n",
       "</style>\n",
       "<table border=\"1\" class=\"dataframe\">\n",
       "  <thead>\n",
       "    <tr style=\"text-align: right;\">\n",
       "      <th></th>\n",
       "      <th>id</th>\n",
       "      <th>listing_url</th>\n",
       "      <th>host_name</th>\n",
       "      <th>price</th>\n",
       "      <th>room_type</th>\n",
       "      <th>property_type</th>\n",
       "    </tr>\n",
       "  </thead>\n",
       "  <tbody>\n",
       "    <tr>\n",
       "      <th>19050</th>\n",
       "      <td>43036115</td>\n",
       "      <td>https://www.airbnb.com/rooms/43036115</td>\n",
       "      <td>Rio Design</td>\n",
       "      <td>0.0</td>\n",
       "      <td>Hotel room</td>\n",
       "      <td>Room in hotel</td>\n",
       "    </tr>\n",
       "    <tr>\n",
       "      <th>19051</th>\n",
       "      <td>43036122</td>\n",
       "      <td>https://www.airbnb.com/rooms/43036122</td>\n",
       "      <td>Belga</td>\n",
       "      <td>0.0</td>\n",
       "      <td>Hotel room</td>\n",
       "      <td>Room in hotel</td>\n",
       "    </tr>\n",
       "    <tr>\n",
       "      <th>19102</th>\n",
       "      <td>43148322</td>\n",
       "      <td>https://www.airbnb.com/rooms/43148322</td>\n",
       "      <td>Américas Barra</td>\n",
       "      <td>0.0</td>\n",
       "      <td>Hotel room</td>\n",
       "      <td>Room in hotel</td>\n",
       "    </tr>\n",
       "    <tr>\n",
       "      <th>19103</th>\n",
       "      <td>43148433</td>\n",
       "      <td>https://www.airbnb.com/rooms/43148433</td>\n",
       "      <td>Américas</td>\n",
       "      <td>0.0</td>\n",
       "      <td>Hotel room</td>\n",
       "      <td>Room in hotel</td>\n",
       "    </tr>\n",
       "    <tr>\n",
       "      <th>19129</th>\n",
       "      <td>43247506</td>\n",
       "      <td>https://www.airbnb.com/rooms/43247506</td>\n",
       "      <td>Américas Granada</td>\n",
       "      <td>0.0</td>\n",
       "      <td>Hotel room</td>\n",
       "      <td>Room in hotel</td>\n",
       "    </tr>\n",
       "    <tr>\n",
       "      <th>19150</th>\n",
       "      <td>43309227</td>\n",
       "      <td>https://www.airbnb.com/rooms/43309227</td>\n",
       "      <td>Augusto'S</td>\n",
       "      <td>0.0</td>\n",
       "      <td>Hotel room</td>\n",
       "      <td>Room in hotel</td>\n",
       "    </tr>\n",
       "    <tr>\n",
       "      <th>19954</th>\n",
       "      <td>45636785</td>\n",
       "      <td>https://www.airbnb.com/rooms/45636785</td>\n",
       "      <td>Selina</td>\n",
       "      <td>0.0</td>\n",
       "      <td>Hotel room</td>\n",
       "      <td>Room in boutique hotel</td>\n",
       "    </tr>\n",
       "  </tbody>\n",
       "</table>\n",
       "</div>"
      ],
      "text/plain": [
       "             id                            listing_url         host_name  \\\n",
       "19050  43036115  https://www.airbnb.com/rooms/43036115        Rio Design   \n",
       "19051  43036122  https://www.airbnb.com/rooms/43036122             Belga   \n",
       "19102  43148322  https://www.airbnb.com/rooms/43148322    Américas Barra   \n",
       "19103  43148433  https://www.airbnb.com/rooms/43148433          Américas   \n",
       "19129  43247506  https://www.airbnb.com/rooms/43247506  Américas Granada   \n",
       "19150  43309227  https://www.airbnb.com/rooms/43309227         Augusto'S   \n",
       "19954  45636785  https://www.airbnb.com/rooms/45636785            Selina   \n",
       "\n",
       "       price   room_type           property_type  \n",
       "19050    0.0  Hotel room           Room in hotel  \n",
       "19051    0.0  Hotel room           Room in hotel  \n",
       "19102    0.0  Hotel room           Room in hotel  \n",
       "19103    0.0  Hotel room           Room in hotel  \n",
       "19129    0.0  Hotel room           Room in hotel  \n",
       "19150    0.0  Hotel room           Room in hotel  \n",
       "19954    0.0  Hotel room  Room in boutique hotel  "
      ]
     },
     "execution_count": 9,
     "metadata": {},
     "output_type": "execute_result"
    }
   ],
   "source": [
    "df_listings[df_listings.price == 0][['id', 'listing_url','host_name', 'price', 'room_type', 'property_type']]"
   ]
  },
  {
   "cell_type": "markdown",
   "metadata": {},
   "source": [
    "##### Descarte destes anúncios"
   ]
  },
  {
   "cell_type": "code",
   "execution_count": 10,
   "metadata": {},
   "outputs": [],
   "source": [
    "df_listings = df_listings[df_listings.price > 0]"
   ]
  },
  {
   "cell_type": "markdown",
   "metadata": {},
   "source": [
    "## Histograma de preços"
   ]
  },
  {
   "cell_type": "markdown",
   "metadata": {},
   "source": [
    "O preço dos anúncios é fortemente assimétrico à direita. Existem poucos anúncios com alto preço que elevam a média. Para poder traçar o histograma de preços de maneira a visualizar a distribuição, foram eliminados os *outliers*, considerando-os assim com z-score maior que 3, ou seja, quando eles ultrapassam mais do que 3 desvios-padrão da média para mais ou para menos. **95%** dos anúncios tem preço abaixo de **R$1938,00**."
   ]
  },
  {
   "cell_type": "code",
   "execution_count": 11,
   "metadata": {},
   "outputs": [
    {
     "data": {
      "text/plain": [
       "count     23628.000000\n",
       "mean        751.551888\n",
       "std        5478.003352\n",
       "min          33.000000\n",
       "5%           75.000000\n",
       "10%          98.000000\n",
       "25%         150.000000\n",
       "50%         256.000000\n",
       "75%         511.000000\n",
       "90%        1176.000000\n",
       "95%        1938.000000\n",
       "99.9%     53336.007000\n",
       "max      586229.000000\n",
       "Name: price, dtype: float64"
      ]
     },
     "execution_count": 11,
     "metadata": {},
     "output_type": "execute_result"
    }
   ],
   "source": [
    "df_listings['price'].describe(percentiles=[0.05,0.1, 0.25,0.5, 0.75, 0.9, 0.95, 0.999])"
   ]
  },
  {
   "cell_type": "code",
   "execution_count": 12,
   "metadata": {},
   "outputs": [
    {
     "data": {
      "text/plain": [
       "<AxesSubplot:xlabel='price', ylabel='Count'>"
      ]
     },
     "execution_count": 12,
     "metadata": {},
     "output_type": "execute_result"
    },
    {
     "data": {
      "image/png": "[encoded data removed]",
      "text/plain": [
       "<Figure size 842.4x595.44 with 1 Axes>"
      ]
     },
     "metadata": {},
     "output_type": "display_data"
    }
   ],
   "source": [
    "df_wt_outliers = remove_outliers(df_listings,\n",
    "                                 column='price',\n",
    "                                 method='zscore',\n",
    "                                 value_method=3)\n",
    "\n",
    "sbn.set_style('ticks')\n",
    "fig, ax = plt.subplots()\n",
    "# the size of A4 paper\n",
    "fig.set_size_inches(11.7, 8.27)\n",
    "\n",
    "price_wt_outliers = df_wt_outliers.price\n",
    "sbn.histplot(price_wt_outliers, binwidth=200)"
   ]
  },
  {
   "cell_type": "markdown",
   "metadata": {},
   "source": [
    "## Anúncios por tipo de quarto"
   ]
  },
  {
   "cell_type": "markdown",
   "metadata": {},
   "source": [
    "Mais de 75% dos anúncios são de lugares inteiros, enquanto um pouco acima de 20% dos anúncios são de quartos inteiros. É pouca a proporção de anúncios de quartos compartilhados e quartos de hotel."
   ]
  },
  {
   "cell_type": "code",
   "execution_count": 13,
   "metadata": {},
   "outputs": [
    {
     "data": {
      "text/plain": [
       "<AxesSubplot:xlabel='room_type', ylabel='Percent'>"
      ]
     },
     "execution_count": 13,
     "metadata": {},
     "output_type": "execute_result"
    },
    {
     "data": {
      "image/png": "[encoded data removed]",
      "text/plain": [
       "<Figure size 842.4x595.44 with 1 Axes>"
      ]
     },
     "metadata": {},
     "output_type": "display_data"
    }
   ],
   "source": [
    "sbn.set_style('ticks')\n",
    "fig, ax = plt.subplots()\n",
    "# the size of A4 paper\n",
    "fig.set_size_inches(11.7, 8.27)\n",
    "\n",
    "sbn.histplot(df_listings, x='room_type', stat='percent')"
   ]
  },
  {
   "cell_type": "markdown",
   "metadata": {},
   "source": [
    "## Diagrama de caixa de preço por tipo de quarto"
   ]
  },
  {
   "cell_type": "markdown",
   "metadata": {},
   "source": [
    "Ao traçar o diagrama de caixa contendo preços acima de **R\\$1500,00**, a visualização  das distribuições fica muito difícil. A quantidade de outliers é muito grande. Quando o conjunto de dados está limitado ao preço de **R\\$1500,00**, é possível visualizar os dados de maneira mais clara. Os preços por noite de anúncios de lugares inteiros são mais amplamente distribuídos e tendem a ser mais caros do que os demais tipos de quartos. O primeiro quartil dos preços de anúncios de lugares inteiros supera as medianas dos demais tipos de quartos. Os quartos compartilhados são geralmente mais baratos que os demais tipos de quartos e têm preços bem concentrados em sua maior parte abaixo de **R$200,00** por noite."
   ]
  },
  {
   "cell_type": "code",
   "execution_count": 14,
   "metadata": {},
   "outputs": [
    {
     "data": {
      "text/plain": [
       "<AxesSubplot:xlabel='room_type', ylabel='price'>"
      ]
     },
     "execution_count": 14,
     "metadata": {},
     "output_type": "execute_result"
    },
    {
     "data": {
      "image/png": "[encoded data removed]",
      "text/plain": [
       "<Figure size 842.4x595.44 with 1 Axes>"
      ]
     },
     "metadata": {},
     "output_type": "display_data"
    }
   ],
   "source": [
    "sbn.set_style('darkgrid')\n",
    "fig, ax = plt.subplots()\n",
    "# the size of A4 paper\n",
    "fig.set_size_inches(11.7, 8.27)\n",
    "\n",
    "df_wt_outliers = remove_outliers(df_listings, 'price', 'absolute', (0, 1500))\n",
    "\n",
    "sbn.boxplot(data=df_wt_outliers, x='room_type',y='price')"
   ]
  }
 ],
 "metadata": {
  "interpreter": {
   "hash": "767d51c1340bd893661ea55ea3124f6de3c7a262a8b4abca0554b478b1e2ff90"
  },
  "kernelspec": {
   "display_name": "Python 3",
   "language": "python",
   "name": "python3"
  },
  "language_info": {
   "codemirror_mode": {
    "name": "ipython",
    "version": 3
   },
   "file_extension": ".py",
   "mimetype": "text/x-python",
   "name": "python",
   "nbconvert_exporter": "python",
   "pygments_lexer": "ipython3",
   "version": "3.6.9"
  }
 },
 "nbformat": 4,
 "nbformat_minor": 2
}
